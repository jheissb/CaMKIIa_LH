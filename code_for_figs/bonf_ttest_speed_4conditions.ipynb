{
 "cells": [
  {
   "cell_type": "markdown",
   "id": "7c333b1d",
   "metadata": {},
   "source": [
    "# Process txt files with RM 2-way ANOVA\n",
    "\n",
    "\n",
    "Jaime Heiss\n",
    "\n",
    "05/11/2022"
   ]
  },
  {
   "cell_type": "code",
   "execution_count": null,
   "id": "9a596a47",
   "metadata": {},
   "outputs": [],
   "source": []
  },
  {
   "cell_type": "code",
   "execution_count": null,
   "id": "a7b9a74a",
   "metadata": {},
   "outputs": [],
   "source": [
    "import numpy as np\n",
    "import pandas as pd\n",
    "import os\n",
    "import matplotlib.pyplot as plt\n",
    "from statsmodels.stats.anova import AnovaRM\n",
    "dirtxt='G:\\My Drive\\formerlab\\camkpaper\\stats\\pengvglut2'\n",
    "fntxt='dosingPTwa.txt'\n",
    "def text2df(pathtofile,cnds=['CNO','SAL']):\n",
    "    df=pd.DataFrame()\n",
    "    with open(pathtofile) as f:\n",
    "        lines = f.readlines()"
   ]
  },
  {
   "cell_type": "code",
   "execution_count": null,
   "id": "09646105",
   "metadata": {},
   "outputs": [],
   "source": [
    "dirtxt=r'C:\\Users\\US Retail\\Documents\\camkpaper\\processed_data\\mats_gad_cre_camK_dta\\dosing'\n",
    "df = pd.read_excel(os.path.join(listdir(dirtxt)"
   ]
  },
  {
   "cell_type": "code",
   "execution_count": null,
   "id": "719eb37b",
   "metadata": {},
   "outputs": [],
   "source": [
    "np.arange(1,10,2)"
   ]
  },
  {
   "cell_type": "code",
   "execution_count": null,
   "id": "30411c5f",
   "metadata": {},
   "outputs": [],
   "source": [
    "fn=os.path.join(dirtxt,fntxt)\n",
    "df=pd.DataFrame(columns=['subjectID','ptWA','ZT','Cond'])\n",
    "with open(fn) as f:\n",
    "        lines = f.readlines()\n",
    "posc=0\n",
    "cnds=['CNO','SAL']\n",
    "firstZT=0\n",
    "for i,l in enumerate(lines):\n",
    "    df1l = pd.DataFrame(columns=['subjectID','ptWA','ZT','Cond'])\n",
    "    numb=[float(e) for e in l.split()]\n",
    "    df1l['ptWA'] = numb\n",
    "    df1l['ZT'] = np.arange(firstZT,firstZT+len(numb))\n",
    "    df1l['subjectID'] = 'mse'+str(1+i//len(cnds))\n",
    "    df1l['Cond']=cnds[posc]\n",
    "    posc+=1\n",
    "    if posc>1:\n",
    "        posc=0\n",
    "    df=df.append(df1l,ignore_index=True)\n",
    "\n",
    "df\n",
    "\n",
    "\n"
   ]
  },
  {
   "cell_type": "code",
   "execution_count": null,
   "id": "fe67b74d",
   "metadata": {},
   "outputs": [],
   "source": [
    "import seaborn as sns\n",
    "sns.lineplot(x='ZT',y='ptWA',hue='Cond',data=df)"
   ]
  },
  {
   "cell_type": "code",
   "execution_count": null,
   "id": "aa1df4b2",
   "metadata": {},
   "outputs": [],
   "source": [
    "aovrm2way = AnovaRM(df, 'ptWA', 'subjectID', within=['ZT', 'Cond'])\n",
    "res2way = aovrm2way.fit()\n",
    "\n",
    "print(res2way)"
   ]
  },
  {
   "cell_type": "code",
   "execution_count": null,
   "id": "d7499e93",
   "metadata": {},
   "outputs": [],
   "source": [
    "#Perform corrected comparison across condtions for every ZT\n",
    "from scipy.stats import ttest_rel\n",
    "\n",
    "# Python paired sample t-test\n",
    "pvals=[]\n",
    "for zt in df.ZT.unique():\n",
    "    a=df.loc[(df.Cond==cnds[0])&(df.ZT==zt),'ptWA'].values\n",
    "    b=df.loc[(df.Cond==cnds[1])&(df.ZT==zt),'ptWA'].values\n",
    "    pvals.append(ttest_rel(a, b).pvalue)\n",
    "pvals=np.array(pvals)*len(pvals)\n",
    "pvals<0.05\n"
   ]
  }
 ],
 "metadata": {
  "kernelspec": {
   "display_name": "Python 3.9.7 ('base')",
   "language": "python",
   "name": "python3"
  },
  "language_info": {
   "codemirror_mode": {
    "name": "ipython",
    "version": 3
   },
   "file_extension": ".py",
   "mimetype": "text/x-python",
   "name": "python",
   "nbconvert_exporter": "python",
   "pygments_lexer": "ipython3",
   "version": "3.9.7"
  },
  "vscode": {
   "interpreter": {
    "hash": "ad2bdc8ecc057115af97d19610ffacc2b4e99fae6737bb82f5d7fb13d2f2c186"
   }
  }
 },
 "nbformat": 4,
 "nbformat_minor": 5
}
